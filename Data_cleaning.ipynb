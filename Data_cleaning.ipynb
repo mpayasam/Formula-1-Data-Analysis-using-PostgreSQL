{
  "cells": [
    {
      "cell_type": "code",
      "execution_count": 4,
      "metadata": {
        "id": "keYZk1sBIWR7"
      },
      "outputs": [],
      "source": [
        "import pandas as pd"
      ]
    },
    {
      "cell_type": "code",
      "execution_count": null,
      "metadata": {
        "id": "z_ktvYhiHWR9"
      },
      "outputs": [],
      "source": [
        "circuits = pd.read_csv(\"circuits.csv\")\n",
        "\n",
        "circuits1=circuits.drop(columns=[\"lat\",\"lng\",\"alt\",\"url\"])\n",
        "print(circuits1)\n",
        "circuits1.to_csv('circuits1.csv', index=False)"
      ]
    },
    {
      "cell_type": "markdown",
      "metadata": {
        "id": "uJoPfyqXdUVD"
      },
      "source": [
        "# New Section"
      ]
    },
    {
      "cell_type": "code",
      "execution_count": null,
      "metadata": {
        "id": "OgxdyKtQJdvu"
      },
      "outputs": [],
      "source": [
        "constructors = pd.read_csv(\"constructors.csv\")\n",
        "print(constructors.head())\n",
        "constructors1=constructors.drop(columns=[\"url\"])\n",
        "constructors1.to_csv('constructors1.csv', index=False)"
      ]
    },
    {
      "cell_type": "code",
      "execution_count": null,
      "metadata": {
        "id": "JVITi1sfJp9g"
      },
      "outputs": [],
      "source": [
        "########\n",
        "drivers = pd.read_csv(\"drivers.csv\")\n",
        "#print(drivers.head())\n",
        "drivers1=drivers.drop(columns=[\"url\"])\n",
        "drivers1.replace('\\\\N', pd.NA, inplace=True)\n",
        "\n",
        "# drop rows with NaN values\n",
        "drivers1.dropna(inplace=True)\n",
        "\n",
        "# reset index\n",
        "drivers1.reset_index(drop=True, inplace=True)\n",
        "drivers1.to_csv('drivers1.csv', index=False)\n",
        "drivers_list=drivers1['driverId'].unique()\n",
        "print(drivers1.head())"
      ]
    },
    {
      "cell_type": "code",
      "execution_count": 8,
      "metadata": {
        "colab": {
          "base_uri": "https://localhost:8080/"
        },
        "id": "dufUZEQfKxKb",
        "outputId": "1e0e359c-2a63-45ca-f229-cbeab637ffcf"
      },
      "outputs": [
        {
          "output_type": "stream",
          "name": "stdout",
          "text": [
            "   raceId  year  round  circuitId                   name        date      time\n",
            "0       1  2009      1          1  Australian Grand Prix  2009-03-29  06:00:00\n",
            "1       2  2009      2          2   Malaysian Grand Prix  2009-04-05  09:00:00\n",
            "2       3  2009      3         17     Chinese Grand Prix  2009-04-19  07:00:00\n",
            "3       4  2009      4          3     Bahrain Grand Prix  2009-04-26  12:00:00\n",
            "4       5  2009      5          4     Spanish Grand Prix  2009-05-10  12:00:00\n"
          ]
        }
      ],
      "source": [
        "races = pd.read_csv(\"races.csv\")\n",
        "races1=races.drop(races.columns[7:], axis=1)\n",
        "print(races1.head())\n",
        "races1['date'] = pd.to_datetime(races1['date'])\n",
        "\n",
        "# Filter out rows with years less than 2012\n",
        "races1 = races1[races1['date'].dt.year >= 2012]\n",
        "races1=races1.rename(columns={\"date\":\"r_date\",\"time\":\"r_time\"})\n",
        "# Get the unique race IDs of the remaining rows and store them in a list\n",
        "raceids = races1['raceId'].unique().tolist()\n",
        "races1.to_csv('races1.csv', index=False)"
      ]
    },
    {
      "cell_type": "code",
      "execution_count": 9,
      "metadata": {
        "colab": {
          "base_uri": "https://localhost:8080/"
        },
        "id": "tOXasVSnLdrg",
        "outputId": "3523058a-12e6-4d9f-c227-735b1ff83c1b"
      },
      "outputs": [
        {
          "output_type": "stream",
          "name": "stdout",
          "text": [
            "   constructorStandingsId  raceId  constructorId  points  position  \\\n",
            "0                       1      18              1    14.0         1   \n",
            "1                       2      18              2     8.0         3   \n",
            "2                       3      18              3     9.0         2   \n",
            "3                       4      18              4     5.0         4   \n",
            "4                       5      18              5     2.0         5   \n",
            "\n",
            "  positionText  wins  \n",
            "0            1     1  \n",
            "1            3     0  \n",
            "2            2     0  \n",
            "3            4     0  \n",
            "4            5     0  \n",
            "       raceId  constructorId  points  position  wins\n",
            "10582     860            206     0.0        10     0\n",
            "10583     860            207     0.0        11     0\n",
            "10584     860              1    40.0         1     1\n",
            "10585     860              3     0.0         9     0\n",
            "10586     860            131     0.0         8     0\n"
          ]
        }
      ],
      "source": [
        "constructor_standings= pd.read_csv(\"constructor_standings.csv\")\n",
        "print(constructor_standings.head())\n",
        "constructor_standings1=constructor_standings.drop(columns=[\"positionText\",\"constructorStandingsId\"])\n",
        "constructor_standings1 = constructor_standings1[constructor_standings1['raceId'].isin(raceids)]\n",
        "constructor_standings1.to_csv('constructor_standings1.csv', index=False)\n",
        "print(constructor_standings1.head())"
      ]
    },
    {
      "cell_type": "code",
      "execution_count": null,
      "metadata": {
        "id": "8uix7VcAO7kR"
      },
      "outputs": [],
      "source": [
        "driver_standings = pd.read_csv(\"driver_standings.csv\")\n",
        "print(driver_standings.head())\n",
        "driver_standings1=driver_standings.drop(columns=[\"positionText\",\"driverStandingsId\"])\n",
        "driver_standings1 = driver_standings1[driver_standings1['raceId'].isin(raceids)]\n",
        "driver_standings1 = driver_standings1[driver_standings1['driverId'].isin(drivers_list)]\n",
        "driver_standings1.to_csv('driver_standings1.csv', index=False)"
      ]
    },
    {
      "cell_type": "code",
      "execution_count": null,
      "metadata": {
        "id": "qlhGGUdHTLKc"
      },
      "outputs": [],
      "source": [
        "######\n",
        "lap_times = pd.read_csv(\"lap_times.csv\")\n",
        "print(lap_times.head())\n",
        "lap_times1=lap_times.drop(columns=[\"milliseconds\"])\n",
        "lap_times1=lap_times.rename(columns={\"time\":\"l_time\"})\n",
        "lap_times1 = lap_times1[lap_times1['raceId'].isin(raceids)]\n",
        "lap_times1 = lap_times1[lap_times1['driverId'].isin(drivers_list)]\n",
        "lap_times1.to_csv('lap_times1.csv', index=False)"
      ]
    },
    {
      "cell_type": "code",
      "execution_count": null,
      "metadata": {
        "id": "C19ovycCUoyl"
      },
      "outputs": [],
      "source": [
        "pit_stops = pd.read_csv(\"pit_stops.csv\")\n",
        "print(pit_stops.head())\n",
        "pit_stops1=pit_stops.drop(columns=[\"milliseconds\"])\n",
        "pit_stops1=pit_stops1.rename(columns={\"time\":\"p_time\"})\n",
        "pit_stops1 = pit_stops1[pit_stops1['raceId'].isin(raceids)]\n",
        "pit_stops1 = pit_stops1[pit_stops1['driverId'].isin(drivers_list)]\n",
        "pit_stops1 = pit_stops1[pd.to_numeric(pit_stops1['duration'], errors='coerce').notnull()]\n",
        "pit_stops1.to_csv('pit_stops1.csv', index=False)"
      ]
    },
    {
      "cell_type": "code",
      "execution_count": null,
      "metadata": {
        "id": "ojMoqainVIsH"
      },
      "outputs": [],
      "source": [
        "#######\n",
        "qualifying = pd.read_csv(\"qualifying.csv\")\n",
        "print(qualifying.head())\n",
        "qualifying1=qualifying.drop(columns=[\"qualifyId\"])\n",
        "qualifying1 = qualifying1[qualifying1['raceId'].isin(raceids)]\n",
        "qualifying1 = qualifying1[qualifying1['driverId'].isin(drivers_list)]\n",
        "qualifying1.replace('\\\\N', pd.NA, inplace=True)\n",
        "\n",
        "# drop rows with NaN values\n",
        "qualifying1.dropna(inplace=True)\n",
        "\n",
        "# reset index\n",
        "qualifying1.reset_index(drop=True, inplace=True)\n",
        "qualifying1.to_csv('qualifying1.csv', index=False)"
      ]
    },
    {
      "cell_type": "code",
      "execution_count": null,
      "metadata": {
        "id": "uuPQdCDZViK5"
      },
      "outputs": [],
      "source": [
        "status = pd.read_csv(\"status.csv\")\n",
        "print(status.head())\n",
        "status.to_csv('status1.csv', index=False)"
      ]
    },
    {
      "cell_type": "code",
      "execution_count": null,
      "metadata": {
        "id": "a6DcYIcnIeYs"
      },
      "outputs": [],
      "source": [
        "results = pd.read_csv(\"results.csv\")\n",
        "\n",
        "results1=results.drop(columns=[\"milliseconds\",\"positionText\",\"positionOrder\",\"time\"])\n",
        "results1=results1.rename(columns={\"time\":\"r_time\"})\n",
        "results1 = results1[results1['raceId'].isin(raceids)]\n",
        "results1 = results1[results1['driverId'].isin(drivers_list)]\n",
        "# drop rows with numeric values in fastestLapSpeed column\n",
        "results1 = results1[results1['fastestLapTime'].apply(lambda x: not isinstance(x, (int, float)))]\n",
        "results1.replace('\\\\N', pd.NA, inplace=True)\n",
        "\n",
        "# drop rows with NaN values in fastestLapSpeed column\n",
        "results1.dropna(subset=['fastestLapTime'], thresh=1, inplace=True)\n",
        "print(results1.head())\n",
        "results1.to_csv('results1.csv', index=False)\n",
        "resultIds=results1['resultId'].unique()\n",
        "print(resultIds)"
      ]
    },
    {
      "cell_type": "code",
      "execution_count": null,
      "metadata": {
        "id": "zwNuPHz8Vts_"
      },
      "outputs": [],
      "source": [
        "########\n",
        "sprint_results = pd.read_csv(\"sprint_results.csv\")\n",
        "\n",
        "sprint_results1=sprint_results.drop(columns=[\"milliseconds\",\"positionText\",\"positionOrder\",\"time\"])\n",
        "sprint_results1 = sprint_results1[sprint_results1['raceId'].isin(raceids)]\n",
        "sprint_results1 = sprint_results1[sprint_results1['driverId'].isin(drivers_list)]\n",
        "#sprint_results1 = sprint_results1[sprint_results1['resultId'].isin(resultIds)]\n",
        "\n",
        "#sprint_results1 = sprint_results1[sprint_results1['fastestLapTime'].apply(lambda x: not isinstance(x, (int, float)))]\n",
        "#sprint_results1.replace('\\\\N', pd.NA, inplace=True)\n",
        "\n",
        "# drop rows with NaN values in fastestLapSpeed column\n",
        "#sprint_results1.dropna(subset=['fastestLapTime'], thresh=1, inplace=True)\n",
        "print(sprint_results1.head())\n",
        "sprint_results1.to_csv('sprint_results1.csv', index=False)"
      ]
    },
    {
      "cell_type": "code",
      "execution_count": null,
      "metadata": {
        "colab": {
          "background_save": true
        },
        "id": "cEe2DcmkJpIg"
      },
      "outputs": [],
      "source": []
    }
  ],
  "metadata": {
    "colab": {
      "provenance": []
    },
    "kernelspec": {
      "display_name": "Python 3",
      "name": "python3"
    },
    "language_info": {
      "name": "python"
    }
  },
  "nbformat": 4,
  "nbformat_minor": 0
}